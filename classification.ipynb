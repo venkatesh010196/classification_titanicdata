{
  "nbformat": 4,
  "nbformat_minor": 0,
  "metadata": {
    "colab": {
      "provenance": [],
      "mount_file_id": "https://github.com/venkatesh010196/classification_titanicdata/blob/main/classification.ipynb",
      "authorship_tag": "ABX9TyMXik8eI9SjDlMszFj1GAea",
      "include_colab_link": true
    },
    "kernelspec": {
      "name": "python3",
      "display_name": "Python 3"
    },
    "language_info": {
      "name": "python"
    }
  },
  "cells": [
    {
      "cell_type": "markdown",
      "metadata": {
        "id": "view-in-github",
        "colab_type": "text"
      },
      "source": [
        "<a href=\"https://colab.research.google.com/github/venkatesh010196/classification_titanicdata/blob/main/classification.ipynb\" target=\"_parent\"><img src=\"https://colab.research.google.com/assets/colab-badge.svg\" alt=\"Open In Colab\"/></a>"
      ]
    },
    {
      "cell_type": "code",
      "source": [
        "from google.colab import drive\n",
        "drive.mount('/content/drive')\n",
        "\n",
        "# Specify the path to your dataset on Google Drive\n",
        "train_file_path = '/content/drive/MyDrive/Colab Notebooks/titanic/train.csv'\n",
        "test_file_path = '/content/drive/MyDrive/Colab Notebooks/titanic/test.csv'"
      ],
      "metadata": {
        "id": "bMOLDfo3FaYZ",
        "outputId": "a2ff5413-dae8-434d-dab8-3afdfbdc7106",
        "colab": {
          "base_uri": "https://localhost:8080/"
        }
      },
      "execution_count": 7,
      "outputs": [
        {
          "output_type": "stream",
          "name": "stdout",
          "text": [
            "Drive already mounted at /content/drive; to attempt to forcibly remount, call drive.mount(\"/content/drive\", force_remount=True).\n"
          ]
        }
      ]
    },
    {
      "cell_type": "code",
      "execution_count": 8,
      "metadata": {
        "id": "4MX2hG3-9EFB"
      },
      "outputs": [],
      "source": [
        "import pandas as pd\n",
        "import numpy as np\n",
        "import matplotlib.pyplot as plt\n",
        "import seaborn as sb\n",
        "import pickle\n"
      ]
    },
    {
      "cell_type": "code",
      "source": [
        "df_test = pd.read_csv(test_file_path)\n",
        "df_test.head()\n"
      ],
      "metadata": {
        "id": "rbS1yvFZomxg",
        "outputId": "1dcf3680-f973-4735-f87d-9398b0d31692",
        "colab": {
          "base_uri": "https://localhost:8080/",
          "height": 204
        }
      },
      "execution_count": 9,
      "outputs": [
        {
          "output_type": "execute_result",
          "data": {
            "text/plain": [
              "   PassengerId  Pclass                                          Name     Sex  \\\n",
              "0          892       3                              Kelly, Mr. James    male   \n",
              "1          893       3              Wilkes, Mrs. James (Ellen Needs)  female   \n",
              "2          894       2                     Myles, Mr. Thomas Francis    male   \n",
              "3          895       3                              Wirz, Mr. Albert    male   \n",
              "4          896       3  Hirvonen, Mrs. Alexander (Helga E Lindqvist)  female   \n",
              "\n",
              "    Age  SibSp  Parch   Ticket     Fare Cabin Embarked  \n",
              "0  34.5      0      0   330911   7.8292   NaN        Q  \n",
              "1  47.0      1      0   363272   7.0000   NaN        S  \n",
              "2  62.0      0      0   240276   9.6875   NaN        Q  \n",
              "3  27.0      0      0   315154   8.6625   NaN        S  \n",
              "4  22.0      1      1  3101298  12.2875   NaN        S  "
            ],
            "text/html": [
              "\n",
              "  <div id=\"df-7d82c222-ea29-43bd-acd7-a7eb7880369b\" class=\"colab-df-container\">\n",
              "    <div>\n",
              "<style scoped>\n",
              "    .dataframe tbody tr th:only-of-type {\n",
              "        vertical-align: middle;\n",
              "    }\n",
              "\n",
              "    .dataframe tbody tr th {\n",
              "        vertical-align: top;\n",
              "    }\n",
              "\n",
              "    .dataframe thead th {\n",
              "        text-align: right;\n",
              "    }\n",
              "</style>\n",
              "<table border=\"1\" class=\"dataframe\">\n",
              "  <thead>\n",
              "    <tr style=\"text-align: right;\">\n",
              "      <th></th>\n",
              "      <th>PassengerId</th>\n",
              "      <th>Pclass</th>\n",
              "      <th>Name</th>\n",
              "      <th>Sex</th>\n",
              "      <th>Age</th>\n",
              "      <th>SibSp</th>\n",
              "      <th>Parch</th>\n",
              "      <th>Ticket</th>\n",
              "      <th>Fare</th>\n",
              "      <th>Cabin</th>\n",
              "      <th>Embarked</th>\n",
              "    </tr>\n",
              "  </thead>\n",
              "  <tbody>\n",
              "    <tr>\n",
              "      <th>0</th>\n",
              "      <td>892</td>\n",
              "      <td>3</td>\n",
              "      <td>Kelly, Mr. James</td>\n",
              "      <td>male</td>\n",
              "      <td>34.5</td>\n",
              "      <td>0</td>\n",
              "      <td>0</td>\n",
              "      <td>330911</td>\n",
              "      <td>7.8292</td>\n",
              "      <td>NaN</td>\n",
              "      <td>Q</td>\n",
              "    </tr>\n",
              "    <tr>\n",
              "      <th>1</th>\n",
              "      <td>893</td>\n",
              "      <td>3</td>\n",
              "      <td>Wilkes, Mrs. James (Ellen Needs)</td>\n",
              "      <td>female</td>\n",
              "      <td>47.0</td>\n",
              "      <td>1</td>\n",
              "      <td>0</td>\n",
              "      <td>363272</td>\n",
              "      <td>7.0000</td>\n",
              "      <td>NaN</td>\n",
              "      <td>S</td>\n",
              "    </tr>\n",
              "    <tr>\n",
              "      <th>2</th>\n",
              "      <td>894</td>\n",
              "      <td>2</td>\n",
              "      <td>Myles, Mr. Thomas Francis</td>\n",
              "      <td>male</td>\n",
              "      <td>62.0</td>\n",
              "      <td>0</td>\n",
              "      <td>0</td>\n",
              "      <td>240276</td>\n",
              "      <td>9.6875</td>\n",
              "      <td>NaN</td>\n",
              "      <td>Q</td>\n",
              "    </tr>\n",
              "    <tr>\n",
              "      <th>3</th>\n",
              "      <td>895</td>\n",
              "      <td>3</td>\n",
              "      <td>Wirz, Mr. Albert</td>\n",
              "      <td>male</td>\n",
              "      <td>27.0</td>\n",
              "      <td>0</td>\n",
              "      <td>0</td>\n",
              "      <td>315154</td>\n",
              "      <td>8.6625</td>\n",
              "      <td>NaN</td>\n",
              "      <td>S</td>\n",
              "    </tr>\n",
              "    <tr>\n",
              "      <th>4</th>\n",
              "      <td>896</td>\n",
              "      <td>3</td>\n",
              "      <td>Hirvonen, Mrs. Alexander (Helga E Lindqvist)</td>\n",
              "      <td>female</td>\n",
              "      <td>22.0</td>\n",
              "      <td>1</td>\n",
              "      <td>1</td>\n",
              "      <td>3101298</td>\n",
              "      <td>12.2875</td>\n",
              "      <td>NaN</td>\n",
              "      <td>S</td>\n",
              "    </tr>\n",
              "  </tbody>\n",
              "</table>\n",
              "</div>\n",
              "    <div class=\"colab-df-buttons\">\n",
              "\n",
              "  <div class=\"colab-df-container\">\n",
              "    <button class=\"colab-df-convert\" onclick=\"convertToInteractive('df-7d82c222-ea29-43bd-acd7-a7eb7880369b')\"\n",
              "            title=\"Convert this dataframe to an interactive table.\"\n",
              "            style=\"display:none;\">\n",
              "\n",
              "  <svg xmlns=\"http://www.w3.org/2000/svg\" height=\"24px\" viewBox=\"0 -960 960 960\">\n",
              "    <path d=\"M120-120v-720h720v720H120Zm60-500h600v-160H180v160Zm220 220h160v-160H400v160Zm0 220h160v-160H400v160ZM180-400h160v-160H180v160Zm440 0h160v-160H620v160ZM180-180h160v-160H180v160Zm440 0h160v-160H620v160Z\"/>\n",
              "  </svg>\n",
              "    </button>\n",
              "\n",
              "  <style>\n",
              "    .colab-df-container {\n",
              "      display:flex;\n",
              "      gap: 12px;\n",
              "    }\n",
              "\n",
              "    .colab-df-convert {\n",
              "      background-color: #E8F0FE;\n",
              "      border: none;\n",
              "      border-radius: 50%;\n",
              "      cursor: pointer;\n",
              "      display: none;\n",
              "      fill: #1967D2;\n",
              "      height: 32px;\n",
              "      padding: 0 0 0 0;\n",
              "      width: 32px;\n",
              "    }\n",
              "\n",
              "    .colab-df-convert:hover {\n",
              "      background-color: #E2EBFA;\n",
              "      box-shadow: 0px 1px 2px rgba(60, 64, 67, 0.3), 0px 1px 3px 1px rgba(60, 64, 67, 0.15);\n",
              "      fill: #174EA6;\n",
              "    }\n",
              "\n",
              "    .colab-df-buttons div {\n",
              "      margin-bottom: 4px;\n",
              "    }\n",
              "\n",
              "    [theme=dark] .colab-df-convert {\n",
              "      background-color: #3B4455;\n",
              "      fill: #D2E3FC;\n",
              "    }\n",
              "\n",
              "    [theme=dark] .colab-df-convert:hover {\n",
              "      background-color: #434B5C;\n",
              "      box-shadow: 0px 1px 3px 1px rgba(0, 0, 0, 0.15);\n",
              "      filter: drop-shadow(0px 1px 2px rgba(0, 0, 0, 0.3));\n",
              "      fill: #FFFFFF;\n",
              "    }\n",
              "  </style>\n",
              "\n",
              "    <script>\n",
              "      const buttonEl =\n",
              "        document.querySelector('#df-7d82c222-ea29-43bd-acd7-a7eb7880369b button.colab-df-convert');\n",
              "      buttonEl.style.display =\n",
              "        google.colab.kernel.accessAllowed ? 'block' : 'none';\n",
              "\n",
              "      async function convertToInteractive(key) {\n",
              "        const element = document.querySelector('#df-7d82c222-ea29-43bd-acd7-a7eb7880369b');\n",
              "        const dataTable =\n",
              "          await google.colab.kernel.invokeFunction('convertToInteractive',\n",
              "                                                    [key], {});\n",
              "        if (!dataTable) return;\n",
              "\n",
              "        const docLinkHtml = 'Like what you see? Visit the ' +\n",
              "          '<a target=\"_blank\" href=https://colab.research.google.com/notebooks/data_table.ipynb>data table notebook</a>'\n",
              "          + ' to learn more about interactive tables.';\n",
              "        element.innerHTML = '';\n",
              "        dataTable['output_type'] = 'display_data';\n",
              "        await google.colab.output.renderOutput(dataTable, element);\n",
              "        const docLink = document.createElement('div');\n",
              "        docLink.innerHTML = docLinkHtml;\n",
              "        element.appendChild(docLink);\n",
              "      }\n",
              "    </script>\n",
              "  </div>\n",
              "\n",
              "\n",
              "<div id=\"df-7507522d-fb9e-4337-b41e-f36f6d6936cd\">\n",
              "  <button class=\"colab-df-quickchart\" onclick=\"quickchart('df-7507522d-fb9e-4337-b41e-f36f6d6936cd')\"\n",
              "            title=\"Suggest charts\"\n",
              "            style=\"display:none;\">\n",
              "\n",
              "<svg xmlns=\"http://www.w3.org/2000/svg\" height=\"24px\"viewBox=\"0 0 24 24\"\n",
              "     width=\"24px\">\n",
              "    <g>\n",
              "        <path d=\"M19 3H5c-1.1 0-2 .9-2 2v14c0 1.1.9 2 2 2h14c1.1 0 2-.9 2-2V5c0-1.1-.9-2-2-2zM9 17H7v-7h2v7zm4 0h-2V7h2v10zm4 0h-2v-4h2v4z\"/>\n",
              "    </g>\n",
              "</svg>\n",
              "  </button>\n",
              "\n",
              "<style>\n",
              "  .colab-df-quickchart {\n",
              "      --bg-color: #E8F0FE;\n",
              "      --fill-color: #1967D2;\n",
              "      --hover-bg-color: #E2EBFA;\n",
              "      --hover-fill-color: #174EA6;\n",
              "      --disabled-fill-color: #AAA;\n",
              "      --disabled-bg-color: #DDD;\n",
              "  }\n",
              "\n",
              "  [theme=dark] .colab-df-quickchart {\n",
              "      --bg-color: #3B4455;\n",
              "      --fill-color: #D2E3FC;\n",
              "      --hover-bg-color: #434B5C;\n",
              "      --hover-fill-color: #FFFFFF;\n",
              "      --disabled-bg-color: #3B4455;\n",
              "      --disabled-fill-color: #666;\n",
              "  }\n",
              "\n",
              "  .colab-df-quickchart {\n",
              "    background-color: var(--bg-color);\n",
              "    border: none;\n",
              "    border-radius: 50%;\n",
              "    cursor: pointer;\n",
              "    display: none;\n",
              "    fill: var(--fill-color);\n",
              "    height: 32px;\n",
              "    padding: 0;\n",
              "    width: 32px;\n",
              "  }\n",
              "\n",
              "  .colab-df-quickchart:hover {\n",
              "    background-color: var(--hover-bg-color);\n",
              "    box-shadow: 0 1px 2px rgba(60, 64, 67, 0.3), 0 1px 3px 1px rgba(60, 64, 67, 0.15);\n",
              "    fill: var(--button-hover-fill-color);\n",
              "  }\n",
              "\n",
              "  .colab-df-quickchart-complete:disabled,\n",
              "  .colab-df-quickchart-complete:disabled:hover {\n",
              "    background-color: var(--disabled-bg-color);\n",
              "    fill: var(--disabled-fill-color);\n",
              "    box-shadow: none;\n",
              "  }\n",
              "\n",
              "  .colab-df-spinner {\n",
              "    border: 2px solid var(--fill-color);\n",
              "    border-color: transparent;\n",
              "    border-bottom-color: var(--fill-color);\n",
              "    animation:\n",
              "      spin 1s steps(1) infinite;\n",
              "  }\n",
              "\n",
              "  @keyframes spin {\n",
              "    0% {\n",
              "      border-color: transparent;\n",
              "      border-bottom-color: var(--fill-color);\n",
              "      border-left-color: var(--fill-color);\n",
              "    }\n",
              "    20% {\n",
              "      border-color: transparent;\n",
              "      border-left-color: var(--fill-color);\n",
              "      border-top-color: var(--fill-color);\n",
              "    }\n",
              "    30% {\n",
              "      border-color: transparent;\n",
              "      border-left-color: var(--fill-color);\n",
              "      border-top-color: var(--fill-color);\n",
              "      border-right-color: var(--fill-color);\n",
              "    }\n",
              "    40% {\n",
              "      border-color: transparent;\n",
              "      border-right-color: var(--fill-color);\n",
              "      border-top-color: var(--fill-color);\n",
              "    }\n",
              "    60% {\n",
              "      border-color: transparent;\n",
              "      border-right-color: var(--fill-color);\n",
              "    }\n",
              "    80% {\n",
              "      border-color: transparent;\n",
              "      border-right-color: var(--fill-color);\n",
              "      border-bottom-color: var(--fill-color);\n",
              "    }\n",
              "    90% {\n",
              "      border-color: transparent;\n",
              "      border-bottom-color: var(--fill-color);\n",
              "    }\n",
              "  }\n",
              "</style>\n",
              "\n",
              "  <script>\n",
              "    async function quickchart(key) {\n",
              "      const quickchartButtonEl =\n",
              "        document.querySelector('#' + key + ' button');\n",
              "      quickchartButtonEl.disabled = true;  // To prevent multiple clicks.\n",
              "      quickchartButtonEl.classList.add('colab-df-spinner');\n",
              "      try {\n",
              "        const charts = await google.colab.kernel.invokeFunction(\n",
              "            'suggestCharts', [key], {});\n",
              "      } catch (error) {\n",
              "        console.error('Error during call to suggestCharts:', error);\n",
              "      }\n",
              "      quickchartButtonEl.classList.remove('colab-df-spinner');\n",
              "      quickchartButtonEl.classList.add('colab-df-quickchart-complete');\n",
              "    }\n",
              "    (() => {\n",
              "      let quickchartButtonEl =\n",
              "        document.querySelector('#df-7507522d-fb9e-4337-b41e-f36f6d6936cd button');\n",
              "      quickchartButtonEl.style.display =\n",
              "        google.colab.kernel.accessAllowed ? 'block' : 'none';\n",
              "    })();\n",
              "  </script>\n",
              "</div>\n",
              "    </div>\n",
              "  </div>\n"
            ]
          },
          "metadata": {},
          "execution_count": 9
        }
      ]
    },
    {
      "cell_type": "code",
      "source": [
        "df_train = pd.read_csv(train_file_path)\n",
        "df_train.head()"
      ],
      "metadata": {
        "id": "wd2IGtBjo5Of",
        "outputId": "5db6713c-1179-4c38-cb64-aa617b7a2101",
        "colab": {
          "base_uri": "https://localhost:8080/",
          "height": 204
        }
      },
      "execution_count": 10,
      "outputs": [
        {
          "output_type": "execute_result",
          "data": {
            "text/plain": [
              "   PassengerId  Survived  Pclass  \\\n",
              "0            1         0       3   \n",
              "1            2         1       1   \n",
              "2            3         1       3   \n",
              "3            4         1       1   \n",
              "4            5         0       3   \n",
              "\n",
              "                                                Name     Sex   Age  SibSp  \\\n",
              "0                            Braund, Mr. Owen Harris    male  22.0      1   \n",
              "1  Cumings, Mrs. John Bradley (Florence Briggs Th...  female  38.0      1   \n",
              "2                             Heikkinen, Miss. Laina  female  26.0      0   \n",
              "3       Futrelle, Mrs. Jacques Heath (Lily May Peel)  female  35.0      1   \n",
              "4                           Allen, Mr. William Henry    male  35.0      0   \n",
              "\n",
              "   Parch            Ticket     Fare Cabin Embarked  \n",
              "0      0         A/5 21171   7.2500   NaN        S  \n",
              "1      0          PC 17599  71.2833   C85        C  \n",
              "2      0  STON/O2. 3101282   7.9250   NaN        S  \n",
              "3      0            113803  53.1000  C123        S  \n",
              "4      0            373450   8.0500   NaN        S  "
            ],
            "text/html": [
              "\n",
              "  <div id=\"df-097506df-fa19-497f-8c5b-6a8cf98d46e8\" class=\"colab-df-container\">\n",
              "    <div>\n",
              "<style scoped>\n",
              "    .dataframe tbody tr th:only-of-type {\n",
              "        vertical-align: middle;\n",
              "    }\n",
              "\n",
              "    .dataframe tbody tr th {\n",
              "        vertical-align: top;\n",
              "    }\n",
              "\n",
              "    .dataframe thead th {\n",
              "        text-align: right;\n",
              "    }\n",
              "</style>\n",
              "<table border=\"1\" class=\"dataframe\">\n",
              "  <thead>\n",
              "    <tr style=\"text-align: right;\">\n",
              "      <th></th>\n",
              "      <th>PassengerId</th>\n",
              "      <th>Survived</th>\n",
              "      <th>Pclass</th>\n",
              "      <th>Name</th>\n",
              "      <th>Sex</th>\n",
              "      <th>Age</th>\n",
              "      <th>SibSp</th>\n",
              "      <th>Parch</th>\n",
              "      <th>Ticket</th>\n",
              "      <th>Fare</th>\n",
              "      <th>Cabin</th>\n",
              "      <th>Embarked</th>\n",
              "    </tr>\n",
              "  </thead>\n",
              "  <tbody>\n",
              "    <tr>\n",
              "      <th>0</th>\n",
              "      <td>1</td>\n",
              "      <td>0</td>\n",
              "      <td>3</td>\n",
              "      <td>Braund, Mr. Owen Harris</td>\n",
              "      <td>male</td>\n",
              "      <td>22.0</td>\n",
              "      <td>1</td>\n",
              "      <td>0</td>\n",
              "      <td>A/5 21171</td>\n",
              "      <td>7.2500</td>\n",
              "      <td>NaN</td>\n",
              "      <td>S</td>\n",
              "    </tr>\n",
              "    <tr>\n",
              "      <th>1</th>\n",
              "      <td>2</td>\n",
              "      <td>1</td>\n",
              "      <td>1</td>\n",
              "      <td>Cumings, Mrs. John Bradley (Florence Briggs Th...</td>\n",
              "      <td>female</td>\n",
              "      <td>38.0</td>\n",
              "      <td>1</td>\n",
              "      <td>0</td>\n",
              "      <td>PC 17599</td>\n",
              "      <td>71.2833</td>\n",
              "      <td>C85</td>\n",
              "      <td>C</td>\n",
              "    </tr>\n",
              "    <tr>\n",
              "      <th>2</th>\n",
              "      <td>3</td>\n",
              "      <td>1</td>\n",
              "      <td>3</td>\n",
              "      <td>Heikkinen, Miss. Laina</td>\n",
              "      <td>female</td>\n",
              "      <td>26.0</td>\n",
              "      <td>0</td>\n",
              "      <td>0</td>\n",
              "      <td>STON/O2. 3101282</td>\n",
              "      <td>7.9250</td>\n",
              "      <td>NaN</td>\n",
              "      <td>S</td>\n",
              "    </tr>\n",
              "    <tr>\n",
              "      <th>3</th>\n",
              "      <td>4</td>\n",
              "      <td>1</td>\n",
              "      <td>1</td>\n",
              "      <td>Futrelle, Mrs. Jacques Heath (Lily May Peel)</td>\n",
              "      <td>female</td>\n",
              "      <td>35.0</td>\n",
              "      <td>1</td>\n",
              "      <td>0</td>\n",
              "      <td>113803</td>\n",
              "      <td>53.1000</td>\n",
              "      <td>C123</td>\n",
              "      <td>S</td>\n",
              "    </tr>\n",
              "    <tr>\n",
              "      <th>4</th>\n",
              "      <td>5</td>\n",
              "      <td>0</td>\n",
              "      <td>3</td>\n",
              "      <td>Allen, Mr. William Henry</td>\n",
              "      <td>male</td>\n",
              "      <td>35.0</td>\n",
              "      <td>0</td>\n",
              "      <td>0</td>\n",
              "      <td>373450</td>\n",
              "      <td>8.0500</td>\n",
              "      <td>NaN</td>\n",
              "      <td>S</td>\n",
              "    </tr>\n",
              "  </tbody>\n",
              "</table>\n",
              "</div>\n",
              "    <div class=\"colab-df-buttons\">\n",
              "\n",
              "  <div class=\"colab-df-container\">\n",
              "    <button class=\"colab-df-convert\" onclick=\"convertToInteractive('df-097506df-fa19-497f-8c5b-6a8cf98d46e8')\"\n",
              "            title=\"Convert this dataframe to an interactive table.\"\n",
              "            style=\"display:none;\">\n",
              "\n",
              "  <svg xmlns=\"http://www.w3.org/2000/svg\" height=\"24px\" viewBox=\"0 -960 960 960\">\n",
              "    <path d=\"M120-120v-720h720v720H120Zm60-500h600v-160H180v160Zm220 220h160v-160H400v160Zm0 220h160v-160H400v160ZM180-400h160v-160H180v160Zm440 0h160v-160H620v160ZM180-180h160v-160H180v160Zm440 0h160v-160H620v160Z\"/>\n",
              "  </svg>\n",
              "    </button>\n",
              "\n",
              "  <style>\n",
              "    .colab-df-container {\n",
              "      display:flex;\n",
              "      gap: 12px;\n",
              "    }\n",
              "\n",
              "    .colab-df-convert {\n",
              "      background-color: #E8F0FE;\n",
              "      border: none;\n",
              "      border-radius: 50%;\n",
              "      cursor: pointer;\n",
              "      display: none;\n",
              "      fill: #1967D2;\n",
              "      height: 32px;\n",
              "      padding: 0 0 0 0;\n",
              "      width: 32px;\n",
              "    }\n",
              "\n",
              "    .colab-df-convert:hover {\n",
              "      background-color: #E2EBFA;\n",
              "      box-shadow: 0px 1px 2px rgba(60, 64, 67, 0.3), 0px 1px 3px 1px rgba(60, 64, 67, 0.15);\n",
              "      fill: #174EA6;\n",
              "    }\n",
              "\n",
              "    .colab-df-buttons div {\n",
              "      margin-bottom: 4px;\n",
              "    }\n",
              "\n",
              "    [theme=dark] .colab-df-convert {\n",
              "      background-color: #3B4455;\n",
              "      fill: #D2E3FC;\n",
              "    }\n",
              "\n",
              "    [theme=dark] .colab-df-convert:hover {\n",
              "      background-color: #434B5C;\n",
              "      box-shadow: 0px 1px 3px 1px rgba(0, 0, 0, 0.15);\n",
              "      filter: drop-shadow(0px 1px 2px rgba(0, 0, 0, 0.3));\n",
              "      fill: #FFFFFF;\n",
              "    }\n",
              "  </style>\n",
              "\n",
              "    <script>\n",
              "      const buttonEl =\n",
              "        document.querySelector('#df-097506df-fa19-497f-8c5b-6a8cf98d46e8 button.colab-df-convert');\n",
              "      buttonEl.style.display =\n",
              "        google.colab.kernel.accessAllowed ? 'block' : 'none';\n",
              "\n",
              "      async function convertToInteractive(key) {\n",
              "        const element = document.querySelector('#df-097506df-fa19-497f-8c5b-6a8cf98d46e8');\n",
              "        const dataTable =\n",
              "          await google.colab.kernel.invokeFunction('convertToInteractive',\n",
              "                                                    [key], {});\n",
              "        if (!dataTable) return;\n",
              "\n",
              "        const docLinkHtml = 'Like what you see? Visit the ' +\n",
              "          '<a target=\"_blank\" href=https://colab.research.google.com/notebooks/data_table.ipynb>data table notebook</a>'\n",
              "          + ' to learn more about interactive tables.';\n",
              "        element.innerHTML = '';\n",
              "        dataTable['output_type'] = 'display_data';\n",
              "        await google.colab.output.renderOutput(dataTable, element);\n",
              "        const docLink = document.createElement('div');\n",
              "        docLink.innerHTML = docLinkHtml;\n",
              "        element.appendChild(docLink);\n",
              "      }\n",
              "    </script>\n",
              "  </div>\n",
              "\n",
              "\n",
              "<div id=\"df-41555f27-f80c-4d0f-9e29-f2f9632d3e30\">\n",
              "  <button class=\"colab-df-quickchart\" onclick=\"quickchart('df-41555f27-f80c-4d0f-9e29-f2f9632d3e30')\"\n",
              "            title=\"Suggest charts\"\n",
              "            style=\"display:none;\">\n",
              "\n",
              "<svg xmlns=\"http://www.w3.org/2000/svg\" height=\"24px\"viewBox=\"0 0 24 24\"\n",
              "     width=\"24px\">\n",
              "    <g>\n",
              "        <path d=\"M19 3H5c-1.1 0-2 .9-2 2v14c0 1.1.9 2 2 2h14c1.1 0 2-.9 2-2V5c0-1.1-.9-2-2-2zM9 17H7v-7h2v7zm4 0h-2V7h2v10zm4 0h-2v-4h2v4z\"/>\n",
              "    </g>\n",
              "</svg>\n",
              "  </button>\n",
              "\n",
              "<style>\n",
              "  .colab-df-quickchart {\n",
              "      --bg-color: #E8F0FE;\n",
              "      --fill-color: #1967D2;\n",
              "      --hover-bg-color: #E2EBFA;\n",
              "      --hover-fill-color: #174EA6;\n",
              "      --disabled-fill-color: #AAA;\n",
              "      --disabled-bg-color: #DDD;\n",
              "  }\n",
              "\n",
              "  [theme=dark] .colab-df-quickchart {\n",
              "      --bg-color: #3B4455;\n",
              "      --fill-color: #D2E3FC;\n",
              "      --hover-bg-color: #434B5C;\n",
              "      --hover-fill-color: #FFFFFF;\n",
              "      --disabled-bg-color: #3B4455;\n",
              "      --disabled-fill-color: #666;\n",
              "  }\n",
              "\n",
              "  .colab-df-quickchart {\n",
              "    background-color: var(--bg-color);\n",
              "    border: none;\n",
              "    border-radius: 50%;\n",
              "    cursor: pointer;\n",
              "    display: none;\n",
              "    fill: var(--fill-color);\n",
              "    height: 32px;\n",
              "    padding: 0;\n",
              "    width: 32px;\n",
              "  }\n",
              "\n",
              "  .colab-df-quickchart:hover {\n",
              "    background-color: var(--hover-bg-color);\n",
              "    box-shadow: 0 1px 2px rgba(60, 64, 67, 0.3), 0 1px 3px 1px rgba(60, 64, 67, 0.15);\n",
              "    fill: var(--button-hover-fill-color);\n",
              "  }\n",
              "\n",
              "  .colab-df-quickchart-complete:disabled,\n",
              "  .colab-df-quickchart-complete:disabled:hover {\n",
              "    background-color: var(--disabled-bg-color);\n",
              "    fill: var(--disabled-fill-color);\n",
              "    box-shadow: none;\n",
              "  }\n",
              "\n",
              "  .colab-df-spinner {\n",
              "    border: 2px solid var(--fill-color);\n",
              "    border-color: transparent;\n",
              "    border-bottom-color: var(--fill-color);\n",
              "    animation:\n",
              "      spin 1s steps(1) infinite;\n",
              "  }\n",
              "\n",
              "  @keyframes spin {\n",
              "    0% {\n",
              "      border-color: transparent;\n",
              "      border-bottom-color: var(--fill-color);\n",
              "      border-left-color: var(--fill-color);\n",
              "    }\n",
              "    20% {\n",
              "      border-color: transparent;\n",
              "      border-left-color: var(--fill-color);\n",
              "      border-top-color: var(--fill-color);\n",
              "    }\n",
              "    30% {\n",
              "      border-color: transparent;\n",
              "      border-left-color: var(--fill-color);\n",
              "      border-top-color: var(--fill-color);\n",
              "      border-right-color: var(--fill-color);\n",
              "    }\n",
              "    40% {\n",
              "      border-color: transparent;\n",
              "      border-right-color: var(--fill-color);\n",
              "      border-top-color: var(--fill-color);\n",
              "    }\n",
              "    60% {\n",
              "      border-color: transparent;\n",
              "      border-right-color: var(--fill-color);\n",
              "    }\n",
              "    80% {\n",
              "      border-color: transparent;\n",
              "      border-right-color: var(--fill-color);\n",
              "      border-bottom-color: var(--fill-color);\n",
              "    }\n",
              "    90% {\n",
              "      border-color: transparent;\n",
              "      border-bottom-color: var(--fill-color);\n",
              "    }\n",
              "  }\n",
              "</style>\n",
              "\n",
              "  <script>\n",
              "    async function quickchart(key) {\n",
              "      const quickchartButtonEl =\n",
              "        document.querySelector('#' + key + ' button');\n",
              "      quickchartButtonEl.disabled = true;  // To prevent multiple clicks.\n",
              "      quickchartButtonEl.classList.add('colab-df-spinner');\n",
              "      try {\n",
              "        const charts = await google.colab.kernel.invokeFunction(\n",
              "            'suggestCharts', [key], {});\n",
              "      } catch (error) {\n",
              "        console.error('Error during call to suggestCharts:', error);\n",
              "      }\n",
              "      quickchartButtonEl.classList.remove('colab-df-spinner');\n",
              "      quickchartButtonEl.classList.add('colab-df-quickchart-complete');\n",
              "    }\n",
              "    (() => {\n",
              "      let quickchartButtonEl =\n",
              "        document.querySelector('#df-41555f27-f80c-4d0f-9e29-f2f9632d3e30 button');\n",
              "      quickchartButtonEl.style.display =\n",
              "        google.colab.kernel.accessAllowed ? 'block' : 'none';\n",
              "    })();\n",
              "  </script>\n",
              "</div>\n",
              "    </div>\n",
              "  </div>\n"
            ]
          },
          "metadata": {},
          "execution_count": 10
        }
      ]
    },
    {
      "cell_type": "code",
      "source": [
        "\n",
        "label = df_train['Survived']\n",
        "df_train = df_train.drop('Survived',axis = 1)\n",
        "\n",
        "df = df_train.append(df_test)\n",
        "df.head()\n"
      ],
      "metadata": {
        "id": "us9bwQ94BUM1",
        "outputId": "1f3bc869-249e-43f0-fcab-6fda36a5b6ac",
        "colab": {
          "base_uri": "https://localhost:8080/",
          "height": 258
        }
      },
      "execution_count": 11,
      "outputs": [
        {
          "output_type": "stream",
          "name": "stderr",
          "text": [
            "<ipython-input-11-a37e55ab15f7>:4: FutureWarning: The frame.append method is deprecated and will be removed from pandas in a future version. Use pandas.concat instead.\n",
            "  df = df_train.append(df_test)\n"
          ]
        },
        {
          "output_type": "execute_result",
          "data": {
            "text/plain": [
              "   PassengerId  Pclass                                               Name  \\\n",
              "0            1       3                            Braund, Mr. Owen Harris   \n",
              "1            2       1  Cumings, Mrs. John Bradley (Florence Briggs Th...   \n",
              "2            3       3                             Heikkinen, Miss. Laina   \n",
              "3            4       1       Futrelle, Mrs. Jacques Heath (Lily May Peel)   \n",
              "4            5       3                           Allen, Mr. William Henry   \n",
              "\n",
              "      Sex   Age  SibSp  Parch            Ticket     Fare Cabin Embarked  \n",
              "0    male  22.0      1      0         A/5 21171   7.2500   NaN        S  \n",
              "1  female  38.0      1      0          PC 17599  71.2833   C85        C  \n",
              "2  female  26.0      0      0  STON/O2. 3101282   7.9250   NaN        S  \n",
              "3  female  35.0      1      0            113803  53.1000  C123        S  \n",
              "4    male  35.0      0      0            373450   8.0500   NaN        S  "
            ],
            "text/html": [
              "\n",
              "  <div id=\"df-97b0b62f-35db-45ef-a356-1ce072a8bfbb\" class=\"colab-df-container\">\n",
              "    <div>\n",
              "<style scoped>\n",
              "    .dataframe tbody tr th:only-of-type {\n",
              "        vertical-align: middle;\n",
              "    }\n",
              "\n",
              "    .dataframe tbody tr th {\n",
              "        vertical-align: top;\n",
              "    }\n",
              "\n",
              "    .dataframe thead th {\n",
              "        text-align: right;\n",
              "    }\n",
              "</style>\n",
              "<table border=\"1\" class=\"dataframe\">\n",
              "  <thead>\n",
              "    <tr style=\"text-align: right;\">\n",
              "      <th></th>\n",
              "      <th>PassengerId</th>\n",
              "      <th>Pclass</th>\n",
              "      <th>Name</th>\n",
              "      <th>Sex</th>\n",
              "      <th>Age</th>\n",
              "      <th>SibSp</th>\n",
              "      <th>Parch</th>\n",
              "      <th>Ticket</th>\n",
              "      <th>Fare</th>\n",
              "      <th>Cabin</th>\n",
              "      <th>Embarked</th>\n",
              "    </tr>\n",
              "  </thead>\n",
              "  <tbody>\n",
              "    <tr>\n",
              "      <th>0</th>\n",
              "      <td>1</td>\n",
              "      <td>3</td>\n",
              "      <td>Braund, Mr. Owen Harris</td>\n",
              "      <td>male</td>\n",
              "      <td>22.0</td>\n",
              "      <td>1</td>\n",
              "      <td>0</td>\n",
              "      <td>A/5 21171</td>\n",
              "      <td>7.2500</td>\n",
              "      <td>NaN</td>\n",
              "      <td>S</td>\n",
              "    </tr>\n",
              "    <tr>\n",
              "      <th>1</th>\n",
              "      <td>2</td>\n",
              "      <td>1</td>\n",
              "      <td>Cumings, Mrs. John Bradley (Florence Briggs Th...</td>\n",
              "      <td>female</td>\n",
              "      <td>38.0</td>\n",
              "      <td>1</td>\n",
              "      <td>0</td>\n",
              "      <td>PC 17599</td>\n",
              "      <td>71.2833</td>\n",
              "      <td>C85</td>\n",
              "      <td>C</td>\n",
              "    </tr>\n",
              "    <tr>\n",
              "      <th>2</th>\n",
              "      <td>3</td>\n",
              "      <td>3</td>\n",
              "      <td>Heikkinen, Miss. Laina</td>\n",
              "      <td>female</td>\n",
              "      <td>26.0</td>\n",
              "      <td>0</td>\n",
              "      <td>0</td>\n",
              "      <td>STON/O2. 3101282</td>\n",
              "      <td>7.9250</td>\n",
              "      <td>NaN</td>\n",
              "      <td>S</td>\n",
              "    </tr>\n",
              "    <tr>\n",
              "      <th>3</th>\n",
              "      <td>4</td>\n",
              "      <td>1</td>\n",
              "      <td>Futrelle, Mrs. Jacques Heath (Lily May Peel)</td>\n",
              "      <td>female</td>\n",
              "      <td>35.0</td>\n",
              "      <td>1</td>\n",
              "      <td>0</td>\n",
              "      <td>113803</td>\n",
              "      <td>53.1000</td>\n",
              "      <td>C123</td>\n",
              "      <td>S</td>\n",
              "    </tr>\n",
              "    <tr>\n",
              "      <th>4</th>\n",
              "      <td>5</td>\n",
              "      <td>3</td>\n",
              "      <td>Allen, Mr. William Henry</td>\n",
              "      <td>male</td>\n",
              "      <td>35.0</td>\n",
              "      <td>0</td>\n",
              "      <td>0</td>\n",
              "      <td>373450</td>\n",
              "      <td>8.0500</td>\n",
              "      <td>NaN</td>\n",
              "      <td>S</td>\n",
              "    </tr>\n",
              "  </tbody>\n",
              "</table>\n",
              "</div>\n",
              "    <div class=\"colab-df-buttons\">\n",
              "\n",
              "  <div class=\"colab-df-container\">\n",
              "    <button class=\"colab-df-convert\" onclick=\"convertToInteractive('df-97b0b62f-35db-45ef-a356-1ce072a8bfbb')\"\n",
              "            title=\"Convert this dataframe to an interactive table.\"\n",
              "            style=\"display:none;\">\n",
              "\n",
              "  <svg xmlns=\"http://www.w3.org/2000/svg\" height=\"24px\" viewBox=\"0 -960 960 960\">\n",
              "    <path d=\"M120-120v-720h720v720H120Zm60-500h600v-160H180v160Zm220 220h160v-160H400v160Zm0 220h160v-160H400v160ZM180-400h160v-160H180v160Zm440 0h160v-160H620v160ZM180-180h160v-160H180v160Zm440 0h160v-160H620v160Z\"/>\n",
              "  </svg>\n",
              "    </button>\n",
              "\n",
              "  <style>\n",
              "    .colab-df-container {\n",
              "      display:flex;\n",
              "      gap: 12px;\n",
              "    }\n",
              "\n",
              "    .colab-df-convert {\n",
              "      background-color: #E8F0FE;\n",
              "      border: none;\n",
              "      border-radius: 50%;\n",
              "      cursor: pointer;\n",
              "      display: none;\n",
              "      fill: #1967D2;\n",
              "      height: 32px;\n",
              "      padding: 0 0 0 0;\n",
              "      width: 32px;\n",
              "    }\n",
              "\n",
              "    .colab-df-convert:hover {\n",
              "      background-color: #E2EBFA;\n",
              "      box-shadow: 0px 1px 2px rgba(60, 64, 67, 0.3), 0px 1px 3px 1px rgba(60, 64, 67, 0.15);\n",
              "      fill: #174EA6;\n",
              "    }\n",
              "\n",
              "    .colab-df-buttons div {\n",
              "      margin-bottom: 4px;\n",
              "    }\n",
              "\n",
              "    [theme=dark] .colab-df-convert {\n",
              "      background-color: #3B4455;\n",
              "      fill: #D2E3FC;\n",
              "    }\n",
              "\n",
              "    [theme=dark] .colab-df-convert:hover {\n",
              "      background-color: #434B5C;\n",
              "      box-shadow: 0px 1px 3px 1px rgba(0, 0, 0, 0.15);\n",
              "      filter: drop-shadow(0px 1px 2px rgba(0, 0, 0, 0.3));\n",
              "      fill: #FFFFFF;\n",
              "    }\n",
              "  </style>\n",
              "\n",
              "    <script>\n",
              "      const buttonEl =\n",
              "        document.querySelector('#df-97b0b62f-35db-45ef-a356-1ce072a8bfbb button.colab-df-convert');\n",
              "      buttonEl.style.display =\n",
              "        google.colab.kernel.accessAllowed ? 'block' : 'none';\n",
              "\n",
              "      async function convertToInteractive(key) {\n",
              "        const element = document.querySelector('#df-97b0b62f-35db-45ef-a356-1ce072a8bfbb');\n",
              "        const dataTable =\n",
              "          await google.colab.kernel.invokeFunction('convertToInteractive',\n",
              "                                                    [key], {});\n",
              "        if (!dataTable) return;\n",
              "\n",
              "        const docLinkHtml = 'Like what you see? Visit the ' +\n",
              "          '<a target=\"_blank\" href=https://colab.research.google.com/notebooks/data_table.ipynb>data table notebook</a>'\n",
              "          + ' to learn more about interactive tables.';\n",
              "        element.innerHTML = '';\n",
              "        dataTable['output_type'] = 'display_data';\n",
              "        await google.colab.output.renderOutput(dataTable, element);\n",
              "        const docLink = document.createElement('div');\n",
              "        docLink.innerHTML = docLinkHtml;\n",
              "        element.appendChild(docLink);\n",
              "      }\n",
              "    </script>\n",
              "  </div>\n",
              "\n",
              "\n",
              "<div id=\"df-f645f899-1352-4be4-b1af-e97feb19b8ec\">\n",
              "  <button class=\"colab-df-quickchart\" onclick=\"quickchart('df-f645f899-1352-4be4-b1af-e97feb19b8ec')\"\n",
              "            title=\"Suggest charts\"\n",
              "            style=\"display:none;\">\n",
              "\n",
              "<svg xmlns=\"http://www.w3.org/2000/svg\" height=\"24px\"viewBox=\"0 0 24 24\"\n",
              "     width=\"24px\">\n",
              "    <g>\n",
              "        <path d=\"M19 3H5c-1.1 0-2 .9-2 2v14c0 1.1.9 2 2 2h14c1.1 0 2-.9 2-2V5c0-1.1-.9-2-2-2zM9 17H7v-7h2v7zm4 0h-2V7h2v10zm4 0h-2v-4h2v4z\"/>\n",
              "    </g>\n",
              "</svg>\n",
              "  </button>\n",
              "\n",
              "<style>\n",
              "  .colab-df-quickchart {\n",
              "      --bg-color: #E8F0FE;\n",
              "      --fill-color: #1967D2;\n",
              "      --hover-bg-color: #E2EBFA;\n",
              "      --hover-fill-color: #174EA6;\n",
              "      --disabled-fill-color: #AAA;\n",
              "      --disabled-bg-color: #DDD;\n",
              "  }\n",
              "\n",
              "  [theme=dark] .colab-df-quickchart {\n",
              "      --bg-color: #3B4455;\n",
              "      --fill-color: #D2E3FC;\n",
              "      --hover-bg-color: #434B5C;\n",
              "      --hover-fill-color: #FFFFFF;\n",
              "      --disabled-bg-color: #3B4455;\n",
              "      --disabled-fill-color: #666;\n",
              "  }\n",
              "\n",
              "  .colab-df-quickchart {\n",
              "    background-color: var(--bg-color);\n",
              "    border: none;\n",
              "    border-radius: 50%;\n",
              "    cursor: pointer;\n",
              "    display: none;\n",
              "    fill: var(--fill-color);\n",
              "    height: 32px;\n",
              "    padding: 0;\n",
              "    width: 32px;\n",
              "  }\n",
              "\n",
              "  .colab-df-quickchart:hover {\n",
              "    background-color: var(--hover-bg-color);\n",
              "    box-shadow: 0 1px 2px rgba(60, 64, 67, 0.3), 0 1px 3px 1px rgba(60, 64, 67, 0.15);\n",
              "    fill: var(--button-hover-fill-color);\n",
              "  }\n",
              "\n",
              "  .colab-df-quickchart-complete:disabled,\n",
              "  .colab-df-quickchart-complete:disabled:hover {\n",
              "    background-color: var(--disabled-bg-color);\n",
              "    fill: var(--disabled-fill-color);\n",
              "    box-shadow: none;\n",
              "  }\n",
              "\n",
              "  .colab-df-spinner {\n",
              "    border: 2px solid var(--fill-color);\n",
              "    border-color: transparent;\n",
              "    border-bottom-color: var(--fill-color);\n",
              "    animation:\n",
              "      spin 1s steps(1) infinite;\n",
              "  }\n",
              "\n",
              "  @keyframes spin {\n",
              "    0% {\n",
              "      border-color: transparent;\n",
              "      border-bottom-color: var(--fill-color);\n",
              "      border-left-color: var(--fill-color);\n",
              "    }\n",
              "    20% {\n",
              "      border-color: transparent;\n",
              "      border-left-color: var(--fill-color);\n",
              "      border-top-color: var(--fill-color);\n",
              "    }\n",
              "    30% {\n",
              "      border-color: transparent;\n",
              "      border-left-color: var(--fill-color);\n",
              "      border-top-color: var(--fill-color);\n",
              "      border-right-color: var(--fill-color);\n",
              "    }\n",
              "    40% {\n",
              "      border-color: transparent;\n",
              "      border-right-color: var(--fill-color);\n",
              "      border-top-color: var(--fill-color);\n",
              "    }\n",
              "    60% {\n",
              "      border-color: transparent;\n",
              "      border-right-color: var(--fill-color);\n",
              "    }\n",
              "    80% {\n",
              "      border-color: transparent;\n",
              "      border-right-color: var(--fill-color);\n",
              "      border-bottom-color: var(--fill-color);\n",
              "    }\n",
              "    90% {\n",
              "      border-color: transparent;\n",
              "      border-bottom-color: var(--fill-color);\n",
              "    }\n",
              "  }\n",
              "</style>\n",
              "\n",
              "  <script>\n",
              "    async function quickchart(key) {\n",
              "      const quickchartButtonEl =\n",
              "        document.querySelector('#' + key + ' button');\n",
              "      quickchartButtonEl.disabled = true;  // To prevent multiple clicks.\n",
              "      quickchartButtonEl.classList.add('colab-df-spinner');\n",
              "      try {\n",
              "        const charts = await google.colab.kernel.invokeFunction(\n",
              "            'suggestCharts', [key], {});\n",
              "      } catch (error) {\n",
              "        console.error('Error during call to suggestCharts:', error);\n",
              "      }\n",
              "      quickchartButtonEl.classList.remove('colab-df-spinner');\n",
              "      quickchartButtonEl.classList.add('colab-df-quickchart-complete');\n",
              "    }\n",
              "    (() => {\n",
              "      let quickchartButtonEl =\n",
              "        document.querySelector('#df-f645f899-1352-4be4-b1af-e97feb19b8ec button');\n",
              "      quickchartButtonEl.style.display =\n",
              "        google.colab.kernel.accessAllowed ? 'block' : 'none';\n",
              "    })();\n",
              "  </script>\n",
              "</div>\n",
              "    </div>\n",
              "  </div>\n"
            ]
          },
          "metadata": {},
          "execution_count": 11
        }
      ]
    },
    {
      "cell_type": "markdown",
      "source": [
        "#Data Exploration and visualization"
      ],
      "metadata": {
        "id": "6wQcD0i5Dy2O"
      }
    },
    {
      "cell_type": "markdown",
      "source": [
        "Displaying survived vs not survived per gender"
      ],
      "metadata": {
        "id": "QWUeKQbBU6WI"
      }
    },
    {
      "cell_type": "code",
      "source": [
        "plt.figure(figsize=(4, 2))\n",
        "sb.countplot(x=df['Sex'],palette='bright')\n",
        "plt.show()"
      ],
      "metadata": {
        "id": "SSbYsxwwUcBQ",
        "outputId": "6ce76419-2b4b-4ed9-b547-91a2d54104d8",
        "colab": {
          "base_uri": "https://localhost:8080/",
          "height": 234
        }
      },
      "execution_count": 12,
      "outputs": [
        {
          "output_type": "display_data",
          "data": {
            "text/plain": [
              "<Figure size 400x200 with 1 Axes>"
            ],
            "image/png": "[encoded data removed]"
          },
          "metadata": {}
        }
      ]
    },
    {
      "cell_type": "markdown",
      "source": [
        "Displaying survived vs not survived"
      ],
      "metadata": {
        "id": "MTGxaYIqVWBO"
      }
    },
    {
      "cell_type": "code",
      "source": [
        "print(df.columns)\n"
      ],
      "metadata": {
        "colab": {
          "base_uri": "https://localhost:8080/"
        },
        "id": "c6QqalRswaAW",
        "outputId": "77170f14-8d6b-4044-a209-afad740864d6"
      },
      "execution_count": 13,
      "outputs": [
        {
          "output_type": "stream",
          "name": "stdout",
          "text": [
            "Index(['PassengerId', 'Pclass', 'Name', 'Sex', 'Age', 'SibSp', 'Parch',\n",
            "       'Ticket', 'Fare', 'Cabin', 'Embarked'],\n",
            "      dtype='object')\n"
          ]
        }
      ]
    },
    {
      "cell_type": "code",
      "source": [
        "plt.figure(figsize=(4, 2))\n",
        "sb.countplot(x=label)\n",
        "\n",
        "plt.show()"
      ],
      "metadata": {
        "id": "r2GgcpMfSTYM",
        "outputId": "025347a9-0986-46d2-c145-1f2663076fff",
        "colab": {
          "base_uri": "https://localhost:8080/",
          "height": 234
        }
      },
      "execution_count": 14,
      "outputs": [
        {
          "output_type": "display_data",
          "data": {
            "text/plain": [
              "<Figure size 400x200 with 1 Axes>"
            ],
            "image/png": "[encoded data removed]"
          },
          "metadata": {}
        }
      ]
    },
    {
      "cell_type": "code",
      "source": [
        "from numpy.core.fromnumeric import mean\n",
        "fare_std = df['Fare'].std()\n",
        "mean = df['Fare'].mean()\n",
        "print(fare_std)\n",
        "print(mean)\n",
        "\n",
        "df['Fare'].plot.hist(bins=25, figsize=(10,5))"
      ],
      "metadata": {
        "id": "rMHLLgORV4ck",
        "outputId": "4ee1e404-3ff9-4533-b066-670b0c250d18",
        "colab": {
          "base_uri": "https://localhost:8080/",
          "height": 496
        }
      },
      "execution_count": 15,
      "outputs": [
        {
          "output_type": "stream",
          "name": "stdout",
          "text": [
            "51.75866823917411\n",
            "33.29547928134557\n"
          ]
        },
        {
          "output_type": "execute_result",
          "data": {
            "text/plain": [
              "<Axes: ylabel='Frequency'>"
            ]
          },
          "metadata": {},
          "execution_count": 15
        },
        {
          "output_type": "display_data",
          "data": {
            "text/plain": [
              "<Figure size 1000x500 with 1 Axes>"
            ],
            "image/png": "[encoded data removed]"
          },
          "metadata": {}
        }
      ]
    },
    {
      "cell_type": "markdown",
      "source": [
        "siblings, spouses aboard"
      ],
      "metadata": {
        "id": "kBQ1-T8KXFne"
      }
    },
    {
      "cell_type": "code",
      "source": [
        "plt.figure(figsize=(4, 2))\n",
        "sb.countplot(x='SibSp', data=df)\n",
        "plt.show()"
      ],
      "metadata": {
        "id": "yk0Up8z9XIQt",
        "outputId": "63f0e2e8-b237-4f3d-e78d-85d6a8275795",
        "colab": {
          "base_uri": "https://localhost:8080/",
          "height": 234
        }
      },
      "execution_count": 16,
      "outputs": [
        {
          "output_type": "display_data",
          "data": {
            "text/plain": [
              "<Figure size 400x200 with 1 Axes>"
            ],
            "image/png": "[encoded data removed]"
          },
          "metadata": {}
        }
      ]
    },
    {
      "cell_type": "markdown",
      "source": [
        "parents, childeren aboard"
      ],
      "metadata": {
        "id": "MOXO6-e-YUOM"
      }
    },
    {
      "cell_type": "code",
      "source": [
        "plt.figure(figsize=(4, 2))\n",
        "sb.countplot(x='Parch' ,data=df)\n",
        "plt.show()"
      ],
      "metadata": {
        "id": "ovs85sm3YHBL",
        "outputId": "b7161219-023e-408c-8041-85a3b2c53e11",
        "colab": {
          "base_uri": "https://localhost:8080/",
          "height": 234
        }
      },
      "execution_count": 17,
      "outputs": [
        {
          "output_type": "display_data",
          "data": {
            "text/plain": [
              "<Figure size 400x200 with 1 Axes>"
            ],
            "image/png": "[encoded data removed]"
          },
          "metadata": {}
        }
      ]
    },
    {
      "cell_type": "markdown",
      "source": [],
      "metadata": {
        "id": "JZKoq9RwcQMD"
      }
    },
    {
      "cell_type": "code",
      "source": [
        "plt.figure(figsize=(4, 2))\n",
        "sb.boxplot(x='Pclass', y='Age', data=df)\n",
        "plt.show()"
      ],
      "metadata": {
        "id": "tLllN3y1Y5eV",
        "outputId": "5f68fe52-95f0-4512-fee9-8a2cacabc0a4",
        "colab": {
          "base_uri": "https://localhost:8080/",
          "height": 234
        }
      },
      "execution_count": 18,
      "outputs": [
        {
          "output_type": "display_data",
          "data": {
            "text/plain": [
              "<Figure size 400x200 with 1 Axes>"
            ],
            "image/png": "[encoded data removed]"
          },
          "metadata": {}
        }
      ]
    },
    {
      "cell_type": "markdown",
      "source": [
        "#Data pre-processing"
      ],
      "metadata": {
        "id": "cySmHLXtRSwG"
      }
    },
    {
      "cell_type": "code",
      "source": [
        "df.info()"
      ],
      "metadata": {
        "id": "Fh6v6fUMgDs5",
        "outputId": "9a653bb5-0487-4389-f2f7-c735b60867eb",
        "colab": {
          "base_uri": "https://localhost:8080/"
        }
      },
      "execution_count": 19,
      "outputs": [
        {
          "output_type": "stream",
          "name": "stdout",
          "text": [
            "<class 'pandas.core.frame.DataFrame'>\n",
            "Int64Index: 1309 entries, 0 to 417\n",
            "Data columns (total 11 columns):\n",
            " #   Column       Non-Null Count  Dtype  \n",
            "---  ------       --------------  -----  \n",
            " 0   PassengerId  1309 non-null   int64  \n",
            " 1   Pclass       1309 non-null   int64  \n",
            " 2   Name         1309 non-null   object \n",
            " 3   Sex          1309 non-null   object \n",
            " 4   Age          1046 non-null   float64\n",
            " 5   SibSp        1309 non-null   int64  \n",
            " 6   Parch        1309 non-null   int64  \n",
            " 7   Ticket       1309 non-null   object \n",
            " 8   Fare         1308 non-null   float64\n",
            " 9   Cabin        295 non-null    object \n",
            " 10  Embarked     1307 non-null   object \n",
            "dtypes: float64(2), int64(4), object(5)\n",
            "memory usage: 122.7+ KB\n"
          ]
        }
      ]
    },
    {
      "cell_type": "markdown",
      "source": [
        "Handling missing values"
      ],
      "metadata": {
        "id": "yNB02nk1SM3_"
      }
    },
    {
      "cell_type": "code",
      "source": [
        "print(df.isnull().sum())\n"
      ],
      "metadata": {
        "id": "7MTtGHOvSJ9j",
        "outputId": "bceaf155-2bae-4267-e542-a7ab4ba2f5fe",
        "colab": {
          "base_uri": "https://localhost:8080/"
        }
      },
      "execution_count": 20,
      "outputs": [
        {
          "output_type": "stream",
          "name": "stdout",
          "text": [
            "PassengerId       0\n",
            "Pclass            0\n",
            "Name              0\n",
            "Sex               0\n",
            "Age             263\n",
            "SibSp             0\n",
            "Parch             0\n",
            "Ticket            0\n",
            "Fare              1\n",
            "Cabin          1014\n",
            "Embarked          2\n",
            "dtype: int64\n"
          ]
        }
      ]
    },
    {
      "cell_type": "code",
      "source": [
        "df.drop(['Age', 'Cabin'], axis = 1, inplace = True)\n"
      ],
      "metadata": {
        "id": "j2WmY9g8hUUf"
      },
      "execution_count": 21,
      "outputs": []
    },
    {
      "cell_type": "code",
      "source": [
        "df['Fare'] = df['Fare'].fillna(df['Fare'].mean())"
      ],
      "metadata": {
        "id": "20sudY_zt5Tr"
      },
      "execution_count": 22,
      "outputs": []
    },
    {
      "cell_type": "markdown",
      "source": [
        "filling the missing values in embarked with the value of the attribute in the last record"
      ],
      "metadata": {
        "id": "RriC2kUBQp7c"
      }
    },
    {
      "cell_type": "code",
      "source": [
        "df['Embarked'] = df['Embarked'].fillna(method = 'ffill')"
      ],
      "metadata": {
        "id": "H_ZoNUW0t64l"
      },
      "execution_count": 23,
      "outputs": []
    },
    {
      "cell_type": "markdown",
      "source": [
        "checking for any missing values"
      ],
      "metadata": {
        "id": "aUjQaTE2NEZU"
      }
    },
    {
      "cell_type": "code",
      "source": [
        "df.isnull().sum()"
      ],
      "metadata": {
        "id": "Zfm6sgSMNHgV",
        "outputId": "12e96049-3c30-4f02-f44c-33973ced6931",
        "colab": {
          "base_uri": "https://localhost:8080/"
        }
      },
      "execution_count": 24,
      "outputs": [
        {
          "output_type": "execute_result",
          "data": {
            "text/plain": [
              "PassengerId    0\n",
              "Pclass         0\n",
              "Name           0\n",
              "Sex            0\n",
              "SibSp          0\n",
              "Parch          0\n",
              "Ticket         0\n",
              "Fare           0\n",
              "Embarked       0\n",
              "dtype: int64"
            ]
          },
          "metadata": {},
          "execution_count": 24
        }
      ]
    },
    {
      "cell_type": "markdown",
      "source": [
        "Dropping name, ticket and passengerid from df as they dont corrrelate with other attibutes; which do not help in predicting the output."
      ],
      "metadata": {
        "id": "4F_3obZ_OcE0"
      }
    },
    {
      "cell_type": "code",
      "source": [
        "df.drop(['PassengerId', 'Name', 'Ticket'], axis=1, inplace = True)"
      ],
      "metadata": {
        "id": "vKCEq-BGOWHi"
      },
      "execution_count": 25,
      "outputs": []
    },
    {
      "cell_type": "code",
      "source": [
        "correlation_matrix = df.corr()\n",
        "\n",
        "# Create a heatmap to visualize the correlation\n",
        "plt.figure(figsize=(5, 4))\n",
        "sb.heatmap(correlation_matrix, annot=True, cmap='coolwarm', linewidths=0.5)\n",
        "plt.title(\"Correlation Heatmap of Titanic Dataset\")\n",
        "plt.show()"
      ],
      "metadata": {
        "id": "utvIpJtsNLyM",
        "outputId": "39cb6bae-8e5c-4884-8e48-f7eb49e26c5f",
        "colab": {
          "base_uri": "https://localhost:8080/",
          "height": 445
        }
      },
      "execution_count": 26,
      "outputs": [
        {
          "output_type": "stream",
          "name": "stderr",
          "text": [
            "<ipython-input-26-4865a85c9e73>:1: FutureWarning: The default value of numeric_only in DataFrame.corr is deprecated. In a future version, it will default to False. Select only valid columns or specify the value of numeric_only to silence this warning.\n",
            "  correlation_matrix = df.corr()\n"
          ]
        },
        {
          "output_type": "display_data",
          "data": {
            "text/plain": [
              "<Figure size 500x400 with 2 Axes>"
            ],
            "image/png": "[encoded data removed]"
          },
          "metadata": {}
        }
      ]
    },
    {
      "cell_type": "code",
      "source": [
        "df['Sex'].unique()\n",
        "df['Embarked'].unique()"
      ],
      "metadata": {
        "id": "MBweGBtyP6nR",
        "outputId": "f0a52bcb-720c-4055-eca4-55f99aee1956",
        "colab": {
          "base_uri": "https://localhost:8080/"
        }
      },
      "execution_count": 27,
      "outputs": [
        {
          "output_type": "execute_result",
          "data": {
            "text/plain": [
              "array(['S', 'C', 'Q'], dtype=object)"
            ]
          },
          "metadata": {},
          "execution_count": 27
        }
      ]
    },
    {
      "cell_type": "markdown",
      "source": [
        "Encoding the nominal attributes using one-hot encoding"
      ],
      "metadata": {
        "id": "-_WhOw1PPGY9"
      }
    },
    {
      "cell_type": "code",
      "source": [
        "embarked_onehot = pd.get_dummies(df.Embarked)\n",
        "df = pd.concat([df,embarked_onehot], axis=1)\n",
        "df = df.drop(\"Embarked\", axis=1)\n",
        "\n",
        "sex_onehot= pd.get_dummies(df.Sex)\n",
        "df = pd.concat([df,sex_onehot], axis=1)\n",
        "df = df.drop(\"Sex\", axis=1)"
      ],
      "metadata": {
        "id": "tTRSFJOcPxZt"
      },
      "execution_count": 28,
      "outputs": []
    },
    {
      "cell_type": "code",
      "source": [
        "df.head()\n"
      ],
      "metadata": {
        "id": "sGlr_xL-Rl8h",
        "outputId": "f895a812-847a-46b2-90a1-827afee038a8",
        "colab": {
          "base_uri": "https://localhost:8080/",
          "height": 204
        }
      },
      "execution_count": 29,
      "outputs": [
        {
          "output_type": "execute_result",
          "data": {
            "text/plain": [
              "   Pclass  SibSp  Parch     Fare  C  Q  S  female  male\n",
              "0       3      1      0   7.2500  0  0  1       0     1\n",
              "1       1      1      0  71.2833  1  0  0       1     0\n",
              "2       3      0      0   7.9250  0  0  1       1     0\n",
              "3       1      1      0  53.1000  0  0  1       1     0\n",
              "4       3      0      0   8.0500  0  0  1       0     1"
            ],
            "text/html": [
              "\n",
              "  <div id=\"df-a625e48b-24cb-4d26-be0d-1d11c6c6814c\" class=\"colab-df-container\">\n",
              "    <div>\n",
              "<style scoped>\n",
              "    .dataframe tbody tr th:only-of-type {\n",
              "        vertical-align: middle;\n",
              "    }\n",
              "\n",
              "    .dataframe tbody tr th {\n",
              "        vertical-align: top;\n",
              "    }\n",
              "\n",
              "    .dataframe thead th {\n",
              "        text-align: right;\n",
              "    }\n",
              "</style>\n",
              "<table border=\"1\" class=\"dataframe\">\n",
              "  <thead>\n",
              "    <tr style=\"text-align: right;\">\n",
              "      <th></th>\n",
              "      <th>Pclass</th>\n",
              "      <th>SibSp</th>\n",
              "      <th>Parch</th>\n",
              "      <th>Fare</th>\n",
              "      <th>C</th>\n",
              "      <th>Q</th>\n",
              "      <th>S</th>\n",
              "      <th>female</th>\n",
              "      <th>male</th>\n",
              "    </tr>\n",
              "  </thead>\n",
              "  <tbody>\n",
              "    <tr>\n",
              "      <th>0</th>\n",
              "      <td>3</td>\n",
              "      <td>1</td>\n",
              "      <td>0</td>\n",
              "      <td>7.2500</td>\n",
              "      <td>0</td>\n",
              "      <td>0</td>\n",
              "      <td>1</td>\n",
              "      <td>0</td>\n",
              "      <td>1</td>\n",
              "    </tr>\n",
              "    <tr>\n",
              "      <th>1</th>\n",
              "      <td>1</td>\n",
              "      <td>1</td>\n",
              "      <td>0</td>\n",
              "      <td>71.2833</td>\n",
              "      <td>1</td>\n",
              "      <td>0</td>\n",
              "      <td>0</td>\n",
              "      <td>1</td>\n",
              "      <td>0</td>\n",
              "    </tr>\n",
              "    <tr>\n",
              "      <th>2</th>\n",
              "      <td>3</td>\n",
              "      <td>0</td>\n",
              "      <td>0</td>\n",
              "      <td>7.9250</td>\n",
              "      <td>0</td>\n",
              "      <td>0</td>\n",
              "      <td>1</td>\n",
              "      <td>1</td>\n",
              "      <td>0</td>\n",
              "    </tr>\n",
              "    <tr>\n",
              "      <th>3</th>\n",
              "      <td>1</td>\n",
              "      <td>1</td>\n",
              "      <td>0</td>\n",
              "      <td>53.1000</td>\n",
              "      <td>0</td>\n",
              "      <td>0</td>\n",
              "      <td>1</td>\n",
              "      <td>1</td>\n",
              "      <td>0</td>\n",
              "    </tr>\n",
              "    <tr>\n",
              "      <th>4</th>\n",
              "      <td>3</td>\n",
              "      <td>0</td>\n",
              "      <td>0</td>\n",
              "      <td>8.0500</td>\n",
              "      <td>0</td>\n",
              "      <td>0</td>\n",
              "      <td>1</td>\n",
              "      <td>0</td>\n",
              "      <td>1</td>\n",
              "    </tr>\n",
              "  </tbody>\n",
              "</table>\n",
              "</div>\n",
              "    <div class=\"colab-df-buttons\">\n",
              "\n",
              "  <div class=\"colab-df-container\">\n",
              "    <button class=\"colab-df-convert\" onclick=\"convertToInteractive('df-a625e48b-24cb-4d26-be0d-1d11c6c6814c')\"\n",
              "            title=\"Convert this dataframe to an interactive table.\"\n",
              "            style=\"display:none;\">\n",
              "\n",
              "  <svg xmlns=\"http://www.w3.org/2000/svg\" height=\"24px\" viewBox=\"0 -960 960 960\">\n",
              "    <path d=\"M120-120v-720h720v720H120Zm60-500h600v-160H180v160Zm220 220h160v-160H400v160Zm0 220h160v-160H400v160ZM180-400h160v-160H180v160Zm440 0h160v-160H620v160ZM180-180h160v-160H180v160Zm440 0h160v-160H620v160Z\"/>\n",
              "  </svg>\n",
              "    </button>\n",
              "\n",
              "  <style>\n",
              "    .colab-df-container {\n",
              "      display:flex;\n",
              "      gap: 12px;\n",
              "    }\n",
              "\n",
              "    .colab-df-convert {\n",
              "      background-color: #E8F0FE;\n",
              "      border: none;\n",
              "      border-radius: 50%;\n",
              "      cursor: pointer;\n",
              "      display: none;\n",
              "      fill: #1967D2;\n",
              "      height: 32px;\n",
              "      padding: 0 0 0 0;\n",
              "      width: 32px;\n",
              "    }\n",
              "\n",
              "    .colab-df-convert:hover {\n",
              "      background-color: #E2EBFA;\n",
              "      box-shadow: 0px 1px 2px rgba(60, 64, 67, 0.3), 0px 1px 3px 1px rgba(60, 64, 67, 0.15);\n",
              "      fill: #174EA6;\n",
              "    }\n",
              "\n",
              "    .colab-df-buttons div {\n",
              "      margin-bottom: 4px;\n",
              "    }\n",
              "\n",
              "    [theme=dark] .colab-df-convert {\n",
              "      background-color: #3B4455;\n",
              "      fill: #D2E3FC;\n",
              "    }\n",
              "\n",
              "    [theme=dark] .colab-df-convert:hover {\n",
              "      background-color: #434B5C;\n",
              "      box-shadow: 0px 1px 3px 1px rgba(0, 0, 0, 0.15);\n",
              "      filter: drop-shadow(0px 1px 2px rgba(0, 0, 0, 0.3));\n",
              "      fill: #FFFFFF;\n",
              "    }\n",
              "  </style>\n",
              "\n",
              "    <script>\n",
              "      const buttonEl =\n",
              "        document.querySelector('#df-a625e48b-24cb-4d26-be0d-1d11c6c6814c button.colab-df-convert');\n",
              "      buttonEl.style.display =\n",
              "        google.colab.kernel.accessAllowed ? 'block' : 'none';\n",
              "\n",
              "      async function convertToInteractive(key) {\n",
              "        const element = document.querySelector('#df-a625e48b-24cb-4d26-be0d-1d11c6c6814c');\n",
              "        const dataTable =\n",
              "          await google.colab.kernel.invokeFunction('convertToInteractive',\n",
              "                                                    [key], {});\n",
              "        if (!dataTable) return;\n",
              "\n",
              "        const docLinkHtml = 'Like what you see? Visit the ' +\n",
              "          '<a target=\"_blank\" href=https://colab.research.google.com/notebooks/data_table.ipynb>data table notebook</a>'\n",
              "          + ' to learn more about interactive tables.';\n",
              "        element.innerHTML = '';\n",
              "        dataTable['output_type'] = 'display_data';\n",
              "        await google.colab.output.renderOutput(dataTable, element);\n",
              "        const docLink = document.createElement('div');\n",
              "        docLink.innerHTML = docLinkHtml;\n",
              "        element.appendChild(docLink);\n",
              "      }\n",
              "    </script>\n",
              "  </div>\n",
              "\n",
              "\n",
              "<div id=\"df-12f3a717-9774-4336-a528-f3feee05b2b7\">\n",
              "  <button class=\"colab-df-quickchart\" onclick=\"quickchart('df-12f3a717-9774-4336-a528-f3feee05b2b7')\"\n",
              "            title=\"Suggest charts\"\n",
              "            style=\"display:none;\">\n",
              "\n",
              "<svg xmlns=\"http://www.w3.org/2000/svg\" height=\"24px\"viewBox=\"0 0 24 24\"\n",
              "     width=\"24px\">\n",
              "    <g>\n",
              "        <path d=\"M19 3H5c-1.1 0-2 .9-2 2v14c0 1.1.9 2 2 2h14c1.1 0 2-.9 2-2V5c0-1.1-.9-2-2-2zM9 17H7v-7h2v7zm4 0h-2V7h2v10zm4 0h-2v-4h2v4z\"/>\n",
              "    </g>\n",
              "</svg>\n",
              "  </button>\n",
              "\n",
              "<style>\n",
              "  .colab-df-quickchart {\n",
              "      --bg-color: #E8F0FE;\n",
              "      --fill-color: #1967D2;\n",
              "      --hover-bg-color: #E2EBFA;\n",
              "      --hover-fill-color: #174EA6;\n",
              "      --disabled-fill-color: #AAA;\n",
              "      --disabled-bg-color: #DDD;\n",
              "  }\n",
              "\n",
              "  [theme=dark] .colab-df-quickchart {\n",
              "      --bg-color: #3B4455;\n",
              "      --fill-color: #D2E3FC;\n",
              "      --hover-bg-color: #434B5C;\n",
              "      --hover-fill-color: #FFFFFF;\n",
              "      --disabled-bg-color: #3B4455;\n",
              "      --disabled-fill-color: #666;\n",
              "  }\n",
              "\n",
              "  .colab-df-quickchart {\n",
              "    background-color: var(--bg-color);\n",
              "    border: none;\n",
              "    border-radius: 50%;\n",
              "    cursor: pointer;\n",
              "    display: none;\n",
              "    fill: var(--fill-color);\n",
              "    height: 32px;\n",
              "    padding: 0;\n",
              "    width: 32px;\n",
              "  }\n",
              "\n",
              "  .colab-df-quickchart:hover {\n",
              "    background-color: var(--hover-bg-color);\n",
              "    box-shadow: 0 1px 2px rgba(60, 64, 67, 0.3), 0 1px 3px 1px rgba(60, 64, 67, 0.15);\n",
              "    fill: var(--button-hover-fill-color);\n",
              "  }\n",
              "\n",
              "  .colab-df-quickchart-complete:disabled,\n",
              "  .colab-df-quickchart-complete:disabled:hover {\n",
              "    background-color: var(--disabled-bg-color);\n",
              "    fill: var(--disabled-fill-color);\n",
              "    box-shadow: none;\n",
              "  }\n",
              "\n",
              "  .colab-df-spinner {\n",
              "    border: 2px solid var(--fill-color);\n",
              "    border-color: transparent;\n",
              "    border-bottom-color: var(--fill-color);\n",
              "    animation:\n",
              "      spin 1s steps(1) infinite;\n",
              "  }\n",
              "\n",
              "  @keyframes spin {\n",
              "    0% {\n",
              "      border-color: transparent;\n",
              "      border-bottom-color: var(--fill-color);\n",
              "      border-left-color: var(--fill-color);\n",
              "    }\n",
              "    20% {\n",
              "      border-color: transparent;\n",
              "      border-left-color: var(--fill-color);\n",
              "      border-top-color: var(--fill-color);\n",
              "    }\n",
              "    30% {\n",
              "      border-color: transparent;\n",
              "      border-left-color: var(--fill-color);\n",
              "      border-top-color: var(--fill-color);\n",
              "      border-right-color: var(--fill-color);\n",
              "    }\n",
              "    40% {\n",
              "      border-color: transparent;\n",
              "      border-right-color: var(--fill-color);\n",
              "      border-top-color: var(--fill-color);\n",
              "    }\n",
              "    60% {\n",
              "      border-color: transparent;\n",
              "      border-right-color: var(--fill-color);\n",
              "    }\n",
              "    80% {\n",
              "      border-color: transparent;\n",
              "      border-right-color: var(--fill-color);\n",
              "      border-bottom-color: var(--fill-color);\n",
              "    }\n",
              "    90% {\n",
              "      border-color: transparent;\n",
              "      border-bottom-color: var(--fill-color);\n",
              "    }\n",
              "  }\n",
              "</style>\n",
              "\n",
              "  <script>\n",
              "    async function quickchart(key) {\n",
              "      const quickchartButtonEl =\n",
              "        document.querySelector('#' + key + ' button');\n",
              "      quickchartButtonEl.disabled = true;  // To prevent multiple clicks.\n",
              "      quickchartButtonEl.classList.add('colab-df-spinner');\n",
              "      try {\n",
              "        const charts = await google.colab.kernel.invokeFunction(\n",
              "            'suggestCharts', [key], {});\n",
              "      } catch (error) {\n",
              "        console.error('Error during call to suggestCharts:', error);\n",
              "      }\n",
              "      quickchartButtonEl.classList.remove('colab-df-spinner');\n",
              "      quickchartButtonEl.classList.add('colab-df-quickchart-complete');\n",
              "    }\n",
              "    (() => {\n",
              "      let quickchartButtonEl =\n",
              "        document.querySelector('#df-12f3a717-9774-4336-a528-f3feee05b2b7 button');\n",
              "      quickchartButtonEl.style.display =\n",
              "        google.colab.kernel.accessAllowed ? 'block' : 'none';\n",
              "    })();\n",
              "  </script>\n",
              "</div>\n",
              "    </div>\n",
              "  </div>\n"
            ]
          },
          "metadata": {},
          "execution_count": 29
        }
      ]
    },
    {
      "cell_type": "code",
      "source": [
        "df.shape"
      ],
      "metadata": {
        "id": "87Q5hFw6RpBz",
        "outputId": "ccfc3043-adc2-4559-976e-a0e007636a81",
        "colab": {
          "base_uri": "https://localhost:8080/"
        }
      },
      "execution_count": 30,
      "outputs": [
        {
          "output_type": "execute_result",
          "data": {
            "text/plain": [
              "(1309, 9)"
            ]
          },
          "metadata": {},
          "execution_count": 30
        }
      ]
    },
    {
      "cell_type": "code",
      "source": [
        "train_data = df.iloc[:891,]\n",
        "test_data = df.iloc[891:,]"
      ],
      "metadata": {
        "id": "qS8zxeCTRy4n"
      },
      "execution_count": 31,
      "outputs": []
    },
    {
      "cell_type": "markdown",
      "source": [
        "#Experimenting with various classification models and hyper_parameters and analysing the results\n"
      ],
      "metadata": {
        "id": "QAO06NW0SafA"
      }
    },
    {
      "cell_type": "code",
      "source": [
        "from sklearn.linear_model import LogisticRegression\n",
        "from sklearn.tree import DecisionTreeClassifier\n",
        "from sklearn.ensemble import RandomForestClassifier\n",
        "from sklearn.naive_bayes import GaussianNB\n",
        "from sklearn.svm import SVC\n",
        "from xgboost import XGBClassifier\n",
        "\n",
        "\n",
        "from sklearn.model_selection import StratifiedKFold\n",
        "from sklearn.metrics import confusion_matrix\n",
        "from sklearn.metrics import accuracy_score\n",
        "from sklearn.model_selection import cross_val_score\n",
        "from sklearn.metrics import classification_report\n",
        "\n",
        "import joblib\n"
      ],
      "metadata": {
        "id": "cYVJ6kHqTa3c"
      },
      "execution_count": 32,
      "outputs": []
    },
    {
      "cell_type": "code",
      "source": [
        "estimators = {\n",
        "    'Logisitic_Regression': LogisticRegression(),\n",
        "    'DecisionTreeClassifier': DecisionTreeClassifier(),\n",
        "    'RandomForestClassifier': RandomForestClassifier(),\n",
        "    'SVC': SVC(gamma = 'auto'),\n",
        "    'GaussianNB': GaussianNB(),\n",
        "    'XGBoost': XGBClassifier()\n",
        "}\n"
      ],
      "metadata": {
        "id": "Li1Is7sHSTAK"
      },
      "execution_count": 33,
      "outputs": []
    },
    {
      "cell_type": "markdown",
      "source": [
        "Stratified Kfold with 10 splits"
      ],
      "metadata": {
        "id": "06jNF2jJM48_"
      }
    },
    {
      "cell_type": "markdown",
      "source": [],
      "metadata": {
        "id": "pUREhEiZkQ8P"
      }
    },
    {
      "cell_type": "code",
      "source": [
        "best_accuracy = 0.0\n",
        "for name, code in estimators.items():\n",
        "    kfold = StratifiedKFold(n_splits=10, random_state=11, shuffle=True)\n",
        "    cv_result = cross_val_score(code, X=train_data, y=label, cv=kfold, scoring='accuracy')\n",
        "\n",
        "    mean_accuracy = cv_result.mean()\n",
        "    std_deviation = cv_result.std()\n",
        "\n",
        "    print(f'{name:>20}: ' +\n",
        "          f'mean accuracy={mean_accuracy:.2%}; ' +\n",
        "          f'standard deviation={std_deviation:.2%}')\n",
        "\n",
        "    # Check if the current model has a better accuracy\n",
        "    if mean_accuracy > best_accuracy:\n",
        "        best_accuracy = mean_accuracy\n",
        "        best_model = code\n",
        "print(f'best_accuracy is {best_accuracy}')\n",
        "model = best_model\n",
        "model.fit(train_data, label)\n",
        "\n",
        "# Save the trained model to a pickle file\n",
        "with open('best_model.pkl', 'wb') as model_file:\n",
        "    pickle.dump(model, model_file)\n",
        "\n",
        "with open('best_model.pkl', 'rb') as model_file:\n",
        "    model = pickle.load(model_file)\n",
        "\n",
        "# Make predictions on the test data\n",
        "predictions = model.predict(test_data)\n",
        "\n",
        "# Create a DataFrame with the predictions\n",
        "result_df = pd.DataFrame({'PassengerId': range(892, 892 + len(predictions)), 'Survived': predictions})\n",
        "\n",
        "# Save the DataFrame to a CSV file\n",
        "result_df.to_csv('predictions.csv', index=False)\n"
      ],
      "metadata": {
        "id": "LamllgKs5kyt",
        "outputId": "5a8c19a9-528a-43f4-ef19-a18154e8c100",
        "colab": {
          "base_uri": "https://localhost:8080/"
        }
      },
      "execution_count": 34,
      "outputs": [
        {
          "output_type": "stream",
          "name": "stderr",
          "text": [
            "/usr/local/lib/python3.10/dist-packages/sklearn/linear_model/_logistic.py:458: ConvergenceWarning: lbfgs failed to converge (status=1):\n",
            "STOP: TOTAL NO. of ITERATIONS REACHED LIMIT.\n",
            "\n",
            "Increase the number of iterations (max_iter) or scale the data as shown in:\n",
            "    https://scikit-learn.org/stable/modules/preprocessing.html\n",
            "Please also refer to the documentation for alternative solver options:\n",
            "    https://scikit-learn.org/stable/modules/linear_model.html#logistic-regression\n",
            "  n_iter_i = _check_optimize_result(\n",
            "/usr/local/lib/python3.10/dist-packages/sklearn/linear_model/_logistic.py:458: ConvergenceWarning: lbfgs failed to converge (status=1):\n",
            "STOP: TOTAL NO. of ITERATIONS REACHED LIMIT.\n",
            "\n",
            "Increase the number of iterations (max_iter) or scale the data as shown in:\n",
            "    https://scikit-learn.org/stable/modules/preprocessing.html\n",
            "Please also refer to the documentation for alternative solver options:\n",
            "    https://scikit-learn.org/stable/modules/linear_model.html#logistic-regression\n",
            "  n_iter_i = _check_optimize_result(\n",
            "/usr/local/lib/python3.10/dist-packages/sklearn/linear_model/_logistic.py:458: ConvergenceWarning: lbfgs failed to converge (status=1):\n",
            "STOP: TOTAL NO. of ITERATIONS REACHED LIMIT.\n",
            "\n",
            "Increase the number of iterations (max_iter) or scale the data as shown in:\n",
            "    https://scikit-learn.org/stable/modules/preprocessing.html\n",
            "Please also refer to the documentation for alternative solver options:\n",
            "    https://scikit-learn.org/stable/modules/linear_model.html#logistic-regression\n",
            "  n_iter_i = _check_optimize_result(\n",
            "/usr/local/lib/python3.10/dist-packages/sklearn/linear_model/_logistic.py:458: ConvergenceWarning: lbfgs failed to converge (status=1):\n",
            "STOP: TOTAL NO. of ITERATIONS REACHED LIMIT.\n",
            "\n",
            "Increase the number of iterations (max_iter) or scale the data as shown in:\n",
            "    https://scikit-learn.org/stable/modules/preprocessing.html\n",
            "Please also refer to the documentation for alternative solver options:\n",
            "    https://scikit-learn.org/stable/modules/linear_model.html#logistic-regression\n",
            "  n_iter_i = _check_optimize_result(\n",
            "/usr/local/lib/python3.10/dist-packages/sklearn/linear_model/_logistic.py:458: ConvergenceWarning: lbfgs failed to converge (status=1):\n",
            "STOP: TOTAL NO. of ITERATIONS REACHED LIMIT.\n",
            "\n",
            "Increase the number of iterations (max_iter) or scale the data as shown in:\n",
            "    https://scikit-learn.org/stable/modules/preprocessing.html\n",
            "Please also refer to the documentation for alternative solver options:\n",
            "    https://scikit-learn.org/stable/modules/linear_model.html#logistic-regression\n",
            "  n_iter_i = _check_optimize_result(\n",
            "/usr/local/lib/python3.10/dist-packages/sklearn/linear_model/_logistic.py:458: ConvergenceWarning: lbfgs failed to converge (status=1):\n",
            "STOP: TOTAL NO. of ITERATIONS REACHED LIMIT.\n",
            "\n",
            "Increase the number of iterations (max_iter) or scale the data as shown in:\n",
            "    https://scikit-learn.org/stable/modules/preprocessing.html\n",
            "Please also refer to the documentation for alternative solver options:\n",
            "    https://scikit-learn.org/stable/modules/linear_model.html#logistic-regression\n",
            "  n_iter_i = _check_optimize_result(\n",
            "/usr/local/lib/python3.10/dist-packages/sklearn/linear_model/_logistic.py:458: ConvergenceWarning: lbfgs failed to converge (status=1):\n",
            "STOP: TOTAL NO. of ITERATIONS REACHED LIMIT.\n",
            "\n",
            "Increase the number of iterations (max_iter) or scale the data as shown in:\n",
            "    https://scikit-learn.org/stable/modules/preprocessing.html\n",
            "Please also refer to the documentation for alternative solver options:\n",
            "    https://scikit-learn.org/stable/modules/linear_model.html#logistic-regression\n",
            "  n_iter_i = _check_optimize_result(\n",
            "/usr/local/lib/python3.10/dist-packages/sklearn/linear_model/_logistic.py:458: ConvergenceWarning: lbfgs failed to converge (status=1):\n",
            "STOP: TOTAL NO. of ITERATIONS REACHED LIMIT.\n",
            "\n",
            "Increase the number of iterations (max_iter) or scale the data as shown in:\n",
            "    https://scikit-learn.org/stable/modules/preprocessing.html\n",
            "Please also refer to the documentation for alternative solver options:\n",
            "    https://scikit-learn.org/stable/modules/linear_model.html#logistic-regression\n",
            "  n_iter_i = _check_optimize_result(\n",
            "/usr/local/lib/python3.10/dist-packages/sklearn/linear_model/_logistic.py:458: ConvergenceWarning: lbfgs failed to converge (status=1):\n",
            "STOP: TOTAL NO. of ITERATIONS REACHED LIMIT.\n",
            "\n",
            "Increase the number of iterations (max_iter) or scale the data as shown in:\n",
            "    https://scikit-learn.org/stable/modules/preprocessing.html\n",
            "Please also refer to the documentation for alternative solver options:\n",
            "    https://scikit-learn.org/stable/modules/linear_model.html#logistic-regression\n",
            "  n_iter_i = _check_optimize_result(\n",
            "/usr/local/lib/python3.10/dist-packages/sklearn/linear_model/_logistic.py:458: ConvergenceWarning: lbfgs failed to converge (status=1):\n",
            "STOP: TOTAL NO. of ITERATIONS REACHED LIMIT.\n",
            "\n",
            "Increase the number of iterations (max_iter) or scale the data as shown in:\n",
            "    https://scikit-learn.org/stable/modules/preprocessing.html\n",
            "Please also refer to the documentation for alternative solver options:\n",
            "    https://scikit-learn.org/stable/modules/linear_model.html#logistic-regression\n",
            "  n_iter_i = _check_optimize_result(\n"
          ]
        },
        {
          "output_type": "stream",
          "name": "stdout",
          "text": [
            "Logisitic_Regression: mean accuracy=78.45%; standard deviation=4.38%\n",
            "DecisionTreeClassifier: mean accuracy=80.81%; standard deviation=3.57%\n",
            "RandomForestClassifier: mean accuracy=80.02%; standard deviation=4.29%\n",
            "                 SVC: mean accuracy=76.99%; standard deviation=4.20%\n",
            "          GaussianNB: mean accuracy=78.79%; standard deviation=4.42%\n",
            "             XGBoost: mean accuracy=80.58%; standard deviation=4.06%\n",
            "best_accuracy is 0.8080774032459426\n"
          ]
        }
      ]
    },
    {
      "cell_type": "markdown",
      "source": [
        "Stratified Kfold with 5 splits"
      ],
      "metadata": {
        "id": "gFdZ5RXHNZN7"
      }
    },
    {
      "cell_type": "code",
      "source": [
        "best_accuracy = 0.0\n",
        "for name, code in estimators.items():\n",
        "    kfold = StratifiedKFold(n_splits=5, random_state=11, shuffle=True)\n",
        "    cv_result = cross_val_score(code, X=train_data, y=label, cv=kfold, scoring='accuracy')\n",
        "\n",
        "    mean_accuracy = cv_result.mean()\n",
        "    std_deviation = cv_result.std()\n",
        "\n",
        "    print(f'{name:>20}: ' +\n",
        "          f'mean accuracy={mean_accuracy:.2%}; ' +\n",
        "          f'standard deviation={std_deviation:.2%}')\n",
        "\n",
        "    # Check if the current model has a better accuracy\n",
        "    if mean_accuracy > best_accuracy:\n",
        "        best_accuracy = mean_accuracy\n",
        "        best_model = code\n",
        "print(f'best_accuracy is {best_accuracy}')\n",
        "model = best_model\n",
        "model.fit(train_data, label)\n",
        "\n",
        "# Save the trained model to a pickle file\n",
        "with open('best_model.pkl', 'wb') as model_file:\n",
        "    pickle.dump(model, model_file)\n",
        "\n",
        "with open('best_model.pkl', 'rb') as model_file:\n",
        "    model = pickle.load(model_file)\n",
        "\n",
        "# Make predictions on the test data\n",
        "predictions = model.predict(test_data)\n",
        "\n",
        "# Create a DataFrame with the predictions\n",
        "result_df = pd.DataFrame({'PassengerId': range(892, 892 + len(predictions)), 'Survived': predictions})\n",
        "\n",
        "# Save the DataFrame to a CSV file\n",
        "result_df.to_csv('predictions.csv', index=False)\n"
      ],
      "metadata": {
        "id": "Haerp4SpMLPU",
        "outputId": "6bc0da3f-83d9-42c8-93b3-97fadf977382",
        "colab": {
          "base_uri": "https://localhost:8080/"
        }
      },
      "execution_count": 35,
      "outputs": [
        {
          "output_type": "stream",
          "name": "stdout",
          "text": [
            "Logisitic_Regression: mean accuracy=77.66%; standard deviation=3.94%\n",
            "DecisionTreeClassifier: mean accuracy=79.24%; standard deviation=2.44%\n"
          ]
        },
        {
          "output_type": "stream",
          "name": "stderr",
          "text": [
            "/usr/local/lib/python3.10/dist-packages/sklearn/linear_model/_logistic.py:458: ConvergenceWarning: lbfgs failed to converge (status=1):\n",
            "STOP: TOTAL NO. of ITERATIONS REACHED LIMIT.\n",
            "\n",
            "Increase the number of iterations (max_iter) or scale the data as shown in:\n",
            "    https://scikit-learn.org/stable/modules/preprocessing.html\n",
            "Please also refer to the documentation for alternative solver options:\n",
            "    https://scikit-learn.org/stable/modules/linear_model.html#logistic-regression\n",
            "  n_iter_i = _check_optimize_result(\n",
            "/usr/local/lib/python3.10/dist-packages/sklearn/linear_model/_logistic.py:458: ConvergenceWarning: lbfgs failed to converge (status=1):\n",
            "STOP: TOTAL NO. of ITERATIONS REACHED LIMIT.\n",
            "\n",
            "Increase the number of iterations (max_iter) or scale the data as shown in:\n",
            "    https://scikit-learn.org/stable/modules/preprocessing.html\n",
            "Please also refer to the documentation for alternative solver options:\n",
            "    https://scikit-learn.org/stable/modules/linear_model.html#logistic-regression\n",
            "  n_iter_i = _check_optimize_result(\n",
            "/usr/local/lib/python3.10/dist-packages/sklearn/linear_model/_logistic.py:458: ConvergenceWarning: lbfgs failed to converge (status=1):\n",
            "STOP: TOTAL NO. of ITERATIONS REACHED LIMIT.\n",
            "\n",
            "Increase the number of iterations (max_iter) or scale the data as shown in:\n",
            "    https://scikit-learn.org/stable/modules/preprocessing.html\n",
            "Please also refer to the documentation for alternative solver options:\n",
            "    https://scikit-learn.org/stable/modules/linear_model.html#logistic-regression\n",
            "  n_iter_i = _check_optimize_result(\n",
            "/usr/local/lib/python3.10/dist-packages/sklearn/linear_model/_logistic.py:458: ConvergenceWarning: lbfgs failed to converge (status=1):\n",
            "STOP: TOTAL NO. of ITERATIONS REACHED LIMIT.\n",
            "\n",
            "Increase the number of iterations (max_iter) or scale the data as shown in:\n",
            "    https://scikit-learn.org/stable/modules/preprocessing.html\n",
            "Please also refer to the documentation for alternative solver options:\n",
            "    https://scikit-learn.org/stable/modules/linear_model.html#logistic-regression\n",
            "  n_iter_i = _check_optimize_result(\n",
            "/usr/local/lib/python3.10/dist-packages/sklearn/linear_model/_logistic.py:458: ConvergenceWarning: lbfgs failed to converge (status=1):\n",
            "STOP: TOTAL NO. of ITERATIONS REACHED LIMIT.\n",
            "\n",
            "Increase the number of iterations (max_iter) or scale the data as shown in:\n",
            "    https://scikit-learn.org/stable/modules/preprocessing.html\n",
            "Please also refer to the documentation for alternative solver options:\n",
            "    https://scikit-learn.org/stable/modules/linear_model.html#logistic-regression\n",
            "  n_iter_i = _check_optimize_result(\n"
          ]
        },
        {
          "output_type": "stream",
          "name": "stdout",
          "text": [
            "RandomForestClassifier: mean accuracy=78.79%; standard deviation=1.78%\n",
            "                 SVC: mean accuracy=76.88%; standard deviation=2.25%\n",
            "          GaussianNB: mean accuracy=78.67%; standard deviation=3.00%\n",
            "             XGBoost: mean accuracy=79.24%; standard deviation=2.23%\n",
            "best_accuracy is 0.7923859142552258\n"
          ]
        }
      ]
    },
    {
      "cell_type": "markdown",
      "source": [
        "References: https://www.kaggle.com/code/olanrewajurasheed/titanic-dataset-with-gradient-boosting"
      ],
      "metadata": {
        "id": "ITHZWZTLNOJj"
      }
    },
    {
      "cell_type": "markdown",
      "source": [
        "Accuracy score of predictions on test dataset in kaggle for the best model(Decision tree classifier, splits = 10)"
      ],
      "metadata": {
        "id": "xvxDKt_tQ5pk"
      }
    },
    {
      "cell_type": "markdown",
      "source": [
        "![Screenshot 2023-11-11 at 1.22.26 AM.png](data:image/png;base64,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)"
      ],
      "metadata": {
        "id": "jy7MUUgHQwzy"
      }
    }
  ]
}